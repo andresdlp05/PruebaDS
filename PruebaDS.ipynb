{
 "cells": [
  {
   "cell_type": "markdown",
   "id": "000ea805-393c-4786-a6a8-fa77e224194a",
   "metadata": {},
   "source": [
    "# Prueba de Data scientist"
   ]
  },
  {
   "cell_type": "raw",
   "id": "a8aaef46-3930-4b7b-9c04-0120a5d014a1",
   "metadata": {},
   "source": [
    "IMPORTAMOS LAS LIBRERIAS QUE VAMOS A USAR"
   ]
  },
  {
   "cell_type": "code",
   "execution_count": 1,
   "id": "8f051b08-b7be-41b4-a556-b5fea6409e83",
   "metadata": {},
   "outputs": [],
   "source": [
    "import pandas as pd\n",
    "import random\n",
    "import matplotlib.pyplot as plt\n",
    "from datetime import datetime, timedelta\n",
    "import seaborn as sns"
   ]
  },
  {
   "cell_type": "raw",
   "id": "4de6dd8d-9139-442f-b788-765b16b7f49a",
   "metadata": {},
   "source": [
    "AQUI HACEMOS TODAS LAS FUNCIONES QUE VAMOS A USAR"
   ]
  },
  {
   "cell_type": "code",
   "execution_count": 2,
   "id": "39684efa-428b-4dcd-9940-514dcac3c0ac",
   "metadata": {},
   "outputs": [],
   "source": [
    "# AQUI HACEMOS TODAS LAS FUNCIONES QUE VAMOS A USAR\n",
    "\n",
    "def generar_ventas_ficticias(num_filas):\n",
    "    \"\"\"\n",
    "    Genera datos ficticios de ventas, con posibilidad de incluir valores nulos.\n",
    "\n",
    "    Args:\n",
    "        num_filas (int): El número de filas (ventas) a generar.\n",
    "\n",
    "    Returns:\n",
    "        list: Una lista de listas, donde cada lista contiene la fecha, producto, \n",
    "        cantidad, y precio unitario. Algunas filas pueden contener valores nulos en \n",
    "        la cantidad o el precio unitario.\n",
    "    \"\"\"\n",
    "    data = []\n",
    "    for i in range(num_filas):\n",
    "        fecha = random.choice(fechas)\n",
    "        producto = random.choice(productos)\n",
    "        cantidad = random.randint(1, 20)\n",
    "        precio_unitario = round(random.uniform(5, 15), 2)\n",
    "\n",
    "        if random.random() < 0.1:\n",
    "            cantidad = None\n",
    "        if random.random() < 0.1:\n",
    "            precio_unitario = None\n",
    "\n",
    "        data.append([fecha, producto, cantidad, precio_unitario])\n",
    "    return data\n",
    "\n",
    "def revisar_estructura(df):\n",
    "    \"\"\"\n",
    "    Imprime la estructura del DataFrame, incluyendo dimensiones, tipos de datos \n",
    "    y la cantidad de valores nulos por columna.\n",
    "\n",
    "    Args:\n",
    "        df (pd.DataFrame): El DataFrame a analizar.\n",
    "    \"\"\"\n",
    "    print(\"Dimensiones del DataFrame:\")\n",
    "    print(df.shape)\n",
    "    print(\"\\nTipos de datos:\")\n",
    "    print(df.dtypes)\n",
    "    print(\"\\nValores nulos:\")\n",
    "    print(df.isnull().sum())\n",
    "    print(\"\\n\")\n",
    "\n",
    "def resumen_estadistico(df):\n",
    "    \"\"\"\n",
    "    Imprime un resumen estadístico de las variables numéricas y categóricas \n",
    "    del DataFrame.\n",
    "\n",
    "    Args:\n",
    "        df (pd.DataFrame): El DataFrame a analizar.\n",
    "    \"\"\"\n",
    "    print(\"Resumen estadístico de las variables numéricas:\")\n",
    "    print(df.describe())\n",
    "    print(\"\\nResumen de las variables categóricas:\")\n",
    "    print(df.describe(include=['object']))\n",
    "    print(\"\\n\")\n",
    "\n",
    "def visualizaciones(df):\n",
    "    \"\"\"\n",
    "    Genera varios gráficos sobre las ventas en el DataFrame:\n",
    "    1. Histograma de la cantidad vendida.\n",
    "    2. Gráfico de barras de las ventas por producto.\n",
    "    3. Gráfico de caja (boxplot) del precio unitario.\n",
    "\n",
    "    Args:\n",
    "        df (pd.DataFrame): El DataFrame que contiene los datos de las ventas.\n",
    "    \"\"\"\n",
    "    plt.figure(figsize=(10, 5))\n",
    "    df['cantidad'].hist(bins=15, color='skyblue')\n",
    "    plt.title('Distribución de la Cantidad Vendida')\n",
    "    plt.xlabel('Cantidad')\n",
    "    plt.ylabel('Frecuencia')\n",
    "    plt.grid(False)\n",
    "    plt.show()\n",
    "\n",
    "    plt.figure(figsize=(10, 5))\n",
    "    ventas_por_producto = df.groupby('producto')['cantidad'].sum().reset_index()\n",
    "    sns.barplot(x='producto', y='cantidad', data=ventas_por_producto, palette='viridis')\n",
    "    plt.title('Cantidad Vendida por Producto')\n",
    "    plt.ylabel('Cantidad')\n",
    "    plt.show()\n",
    "\n",
    "    plt.figure(figsize=(10, 5))\n",
    "    sns.boxplot(df['precio_unitario'])\n",
    "    plt.title('Distribución del Precio Unitario')\n",
    "    plt.show()\n",
    "\n",
    "def analizar_valores_nulos(df):\n",
    "    \"\"\"\n",
    "    Imprime el porcentaje de valores nulos en cada columna del DataFrame.\n",
    "\n",
    "    Args:\n",
    "        df (pd.DataFrame): El DataFrame a analizar.\n",
    "    \"\"\"\n",
    "    print(\"Porcentaje de valores nulos por columna:\")\n",
    "    nulos = df.isnull().mean() * 100\n",
    "    print(nulos[nulos > 0])\n",
    "    print(\"\\n\")\n",
    "\n",
    "def graficar_ventas_por_producto(ventas_por_producto):\n",
    "    \"\"\"\n",
    "    Genera un gráfico de barras que muestra el total de ventas por producto.\n",
    "\n",
    "    Args:\n",
    "        ventas_por_producto (pd.DataFrame): DataFrame con las columnas 'producto' \n",
    "        y 'total_venta' que representa las ventas por producto.\n",
    "    \"\"\"\n",
    "    plt.figure(figsize=(10, 6))\n",
    "    sns.barplot(x='producto', y='total_venta', data=ventas_por_producto, palette='Blues_d')\n",
    "    plt.title('Total de Ventas por Producto')\n",
    "    plt.xlabel('Producto')\n",
    "    plt.ylabel('Total de Ventas')\n",
    "    plt.xticks(rotation=45)\n",
    "    plt.show()\n",
    "\n",
    "def graficar_producto_mas_vendido(producto_mas_vendido):\n",
    "    \"\"\"\n",
    "    Genera un gráfico de barras para mostrar el producto más vendido.\n",
    "\n",
    "    Args:\n",
    "        producto_mas_vendido (pd.Series): Serie que contiene el nombre del producto \n",
    "        y el total de ventas del producto más vendido.\n",
    "    \"\"\"\n",
    "    plt.figure(figsize=(5, 4))\n",
    "    plt.bar(producto_mas_vendido['producto'], producto_mas_vendido['total_venta'], color='green')\n",
    "    plt.title('Producto Más Vendido')\n",
    "    plt.xlabel('Producto')\n",
    "    plt.ylabel('Total de Ventas')\n",
    "    plt.show()\n",
    "\n",
    "def graficar_top_5_dias(top_5_dias):\n",
    "    \"\"\"\n",
    "    Genera un gráfico de línea que muestra los 5 días con mayor cantidad de ventas.\n",
    "\n",
    "    Args:\n",
    "        top_5_dias (pd.DataFrame): DataFrame con las columnas 'fecha' y 'cantidad' \n",
    "        que representa los 5 días con más ventas.\n",
    "    \"\"\"\n",
    "    plt.figure(figsize=(10, 6))\n",
    "    sns.lineplot(x='fecha', y='cantidad', data=top_5_dias, marker=\"o\", color='red')\n",
    "    plt.title('Top 5 Días con Mayor Cantidad de Ventas')\n",
    "    plt.xlabel('Fecha')\n",
    "    plt.ylabel('Cantidad de Productos Vendidos')\n",
    "    plt.xticks(rotation=45)\n",
    "    plt.show()"
   ]
  },
  {
   "cell_type": "raw",
   "id": "fd524d46-d707-4caf-8b3f-57d14aed3663",
   "metadata": {},
   "source": [
    "Comenzamos a generar data ficticia para analizarlo."
   ]
  },
  {
   "cell_type": "code",
   "execution_count": 3,
   "id": "0b3056dc-6cff-4c4b-8c38-5976c9dcb165",
   "metadata": {},
   "outputs": [],
   "source": [
    "# Lista de productos que se utilizarán para generar los datos ficticios\n",
    "productos = ['Producto A', 'Producto B', 'Producto C', 'Producto D', 'Producto E']\n",
    "\n",
    "# Generar una lista de fechas con un rango de 30 días, comenzando el 1 de enero de 2024\n",
    "fechas = pd.date_range(start=\"2024-01-01\", periods=30).tolist()\n",
    "\n",
    "# Llamar a la función generar_ventas_ficticias para generar 200 filas de datos ficticios\n",
    "# Esta función crea una lista con información aleatoria sobre productos, fechas, cantidad, y precio unitario\n",
    "data_ficticia = generar_ventas_ficticias(200)\n",
    "\n",
    "# Convertir la lista generada en un DataFrame de pandas, especificando los nombres de las columnas\n",
    "df = pd.DataFrame(data_ficticia, columns=[\"fecha\", \"producto\", \"cantidad\", \"precio_unitario\"])\n"
   ]
  },
  {
   "cell_type": "code",
   "execution_count": 4,
   "id": "76d3d87a-8025-463d-9572-fcfdb7bf17b0",
   "metadata": {},
   "outputs": [
    {
     "data": {
      "text/html": [
       "<div>\n",
       "<style scoped>\n",
       "    .dataframe tbody tr th:only-of-type {\n",
       "        vertical-align: middle;\n",
       "    }\n",
       "\n",
       "    .dataframe tbody tr th {\n",
       "        vertical-align: top;\n",
       "    }\n",
       "\n",
       "    .dataframe thead th {\n",
       "        text-align: right;\n",
       "    }\n",
       "</style>\n",
       "<table border=\"1\" class=\"dataframe\">\n",
       "  <thead>\n",
       "    <tr style=\"text-align: right;\">\n",
       "      <th></th>\n",
       "      <th>fecha</th>\n",
       "      <th>producto</th>\n",
       "      <th>cantidad</th>\n",
       "      <th>precio_unitario</th>\n",
       "    </tr>\n",
       "  </thead>\n",
       "  <tbody>\n",
       "    <tr>\n",
       "      <th>0</th>\n",
       "      <td>2024-01-12</td>\n",
       "      <td>Producto B</td>\n",
       "      <td>9.0</td>\n",
       "      <td>13.87</td>\n",
       "    </tr>\n",
       "    <tr>\n",
       "      <th>1</th>\n",
       "      <td>2024-01-30</td>\n",
       "      <td>Producto A</td>\n",
       "      <td>14.0</td>\n",
       "      <td>8.12</td>\n",
       "    </tr>\n",
       "    <tr>\n",
       "      <th>2</th>\n",
       "      <td>2024-01-03</td>\n",
       "      <td>Producto B</td>\n",
       "      <td>7.0</td>\n",
       "      <td>5.89</td>\n",
       "    </tr>\n",
       "    <tr>\n",
       "      <th>3</th>\n",
       "      <td>2024-01-21</td>\n",
       "      <td>Producto E</td>\n",
       "      <td>17.0</td>\n",
       "      <td>8.10</td>\n",
       "    </tr>\n",
       "    <tr>\n",
       "      <th>4</th>\n",
       "      <td>2024-01-10</td>\n",
       "      <td>Producto C</td>\n",
       "      <td>1.0</td>\n",
       "      <td>14.83</td>\n",
       "    </tr>\n",
       "    <tr>\n",
       "      <th>...</th>\n",
       "      <td>...</td>\n",
       "      <td>...</td>\n",
       "      <td>...</td>\n",
       "      <td>...</td>\n",
       "    </tr>\n",
       "    <tr>\n",
       "      <th>195</th>\n",
       "      <td>2024-01-19</td>\n",
       "      <td>Producto B</td>\n",
       "      <td>14.0</td>\n",
       "      <td>8.95</td>\n",
       "    </tr>\n",
       "    <tr>\n",
       "      <th>196</th>\n",
       "      <td>2024-01-18</td>\n",
       "      <td>Producto D</td>\n",
       "      <td>NaN</td>\n",
       "      <td>6.69</td>\n",
       "    </tr>\n",
       "    <tr>\n",
       "      <th>197</th>\n",
       "      <td>2024-01-10</td>\n",
       "      <td>Producto C</td>\n",
       "      <td>13.0</td>\n",
       "      <td>5.57</td>\n",
       "    </tr>\n",
       "    <tr>\n",
       "      <th>198</th>\n",
       "      <td>2024-01-16</td>\n",
       "      <td>Producto E</td>\n",
       "      <td>1.0</td>\n",
       "      <td>5.24</td>\n",
       "    </tr>\n",
       "    <tr>\n",
       "      <th>199</th>\n",
       "      <td>2024-01-24</td>\n",
       "      <td>Producto A</td>\n",
       "      <td>4.0</td>\n",
       "      <td>6.63</td>\n",
       "    </tr>\n",
       "  </tbody>\n",
       "</table>\n",
       "<p>200 rows × 4 columns</p>\n",
       "</div>"
      ],
      "text/plain": [
       "         fecha    producto  cantidad  precio_unitario\n",
       "0   2024-01-12  Producto B       9.0            13.87\n",
       "1   2024-01-30  Producto A      14.0             8.12\n",
       "2   2024-01-03  Producto B       7.0             5.89\n",
       "3   2024-01-21  Producto E      17.0             8.10\n",
       "4   2024-01-10  Producto C       1.0            14.83\n",
       "..         ...         ...       ...              ...\n",
       "195 2024-01-19  Producto B      14.0             8.95\n",
       "196 2024-01-18  Producto D       NaN             6.69\n",
       "197 2024-01-10  Producto C      13.0             5.57\n",
       "198 2024-01-16  Producto E       1.0             5.24\n",
       "199 2024-01-24  Producto A       4.0             6.63\n",
       "\n",
       "[200 rows x 4 columns]"
      ]
     },
     "execution_count": 4,
     "metadata": {},
     "output_type": "execute_result"
    }
   ],
   "source": [
    "df"
   ]
  },
  {
   "cell_type": "raw",
   "id": "7f5834d0-8391-42fe-bfa1-8f2bcc501876",
   "metadata": {},
   "source": [
    "La dimension de este dataframe es de 200 filas y 4 columnas"
   ]
  },
  {
   "cell_type": "code",
   "execution_count": 5,
   "id": "799954a6-6890-40e4-9c8f-bfe3c12c96d5",
   "metadata": {},
   "outputs": [
    {
     "data": {
      "text/plain": [
       "(200, 4)"
      ]
     },
     "execution_count": 5,
     "metadata": {},
     "output_type": "execute_result"
    }
   ],
   "source": [
    "df.shape"
   ]
  },
  {
   "cell_type": "code",
   "execution_count": 6,
   "id": "ef6a1dff-f2c6-441f-a2e7-12808e65174d",
   "metadata": {},
   "outputs": [],
   "source": [
    "df.to_csv(\"df.csv\", index=False)"
   ]
  },
  {
   "cell_type": "markdown",
   "id": "3ee22d4e-80b6-4b7a-a916-4617a2d44235",
   "metadata": {},
   "source": [
    "## ACTIVIDADES POR REALIZAR"
   ]
  },
  {
   "cell_type": "markdown",
   "id": "c3d90e98-9c17-42af-9091-e4a20cbdea70",
   "metadata": {},
   "source": [
    "### 1)\tCargar el archivo CSV en un data frame utilizando pandas"
   ]
  },
  {
   "cell_type": "raw",
   "id": "0e5e25f3-e280-435c-96a4-3046f716fee0",
   "metadata": {},
   "source": [
    "Leemos el dataframe creado en el paso anterior"
   ]
  },
  {
   "cell_type": "code",
   "execution_count": 8,
   "id": "5e4d1d22-d026-4cb2-b6de-8c872a997fd4",
   "metadata": {},
   "outputs": [],
   "source": [
    "df = pd.read_csv('df.csv')"
   ]
  },
  {
   "cell_type": "code",
   "execution_count": 9,
   "id": "9bbab971-3ab8-4217-b22e-43d18aaea333",
   "metadata": {},
   "outputs": [
    {
     "data": {
      "text/html": [
       "<div>\n",
       "<style scoped>\n",
       "    .dataframe tbody tr th:only-of-type {\n",
       "        vertical-align: middle;\n",
       "    }\n",
       "\n",
       "    .dataframe tbody tr th {\n",
       "        vertical-align: top;\n",
       "    }\n",
       "\n",
       "    .dataframe thead th {\n",
       "        text-align: right;\n",
       "    }\n",
       "</style>\n",
       "<table border=\"1\" class=\"dataframe\">\n",
       "  <thead>\n",
       "    <tr style=\"text-align: right;\">\n",
       "      <th></th>\n",
       "      <th>fecha</th>\n",
       "      <th>producto</th>\n",
       "      <th>cantidad</th>\n",
       "      <th>precio_unitario</th>\n",
       "    </tr>\n",
       "  </thead>\n",
       "  <tbody>\n",
       "    <tr>\n",
       "      <th>0</th>\n",
       "      <td>2024-01-12</td>\n",
       "      <td>Producto B</td>\n",
       "      <td>9.0</td>\n",
       "      <td>13.87</td>\n",
       "    </tr>\n",
       "    <tr>\n",
       "      <th>1</th>\n",
       "      <td>2024-01-30</td>\n",
       "      <td>Producto A</td>\n",
       "      <td>14.0</td>\n",
       "      <td>8.12</td>\n",
       "    </tr>\n",
       "    <tr>\n",
       "      <th>2</th>\n",
       "      <td>2024-01-03</td>\n",
       "      <td>Producto B</td>\n",
       "      <td>7.0</td>\n",
       "      <td>5.89</td>\n",
       "    </tr>\n",
       "    <tr>\n",
       "      <th>3</th>\n",
       "      <td>2024-01-21</td>\n",
       "      <td>Producto E</td>\n",
       "      <td>17.0</td>\n",
       "      <td>8.10</td>\n",
       "    </tr>\n",
       "    <tr>\n",
       "      <th>4</th>\n",
       "      <td>2024-01-10</td>\n",
       "      <td>Producto C</td>\n",
       "      <td>1.0</td>\n",
       "      <td>14.83</td>\n",
       "    </tr>\n",
       "  </tbody>\n",
       "</table>\n",
       "</div>"
      ],
      "text/plain": [
       "        fecha    producto  cantidad  precio_unitario\n",
       "0  2024-01-12  Producto B       9.0            13.87\n",
       "1  2024-01-30  Producto A      14.0             8.12\n",
       "2  2024-01-03  Producto B       7.0             5.89\n",
       "3  2024-01-21  Producto E      17.0             8.10\n",
       "4  2024-01-10  Producto C       1.0            14.83"
      ]
     },
     "execution_count": 9,
     "metadata": {},
     "output_type": "execute_result"
    }
   ],
   "source": [
    "df.head()"
   ]
  },
  {
   "cell_type": "markdown",
   "id": "9b08d2b3-37d0-4e6e-a5a8-7a4a0fd44e94",
   "metadata": {},
   "source": [
    "### 2)\tLimpiar los datos, ten en cuenta que Gohan para muy ocupado y algunos valores pueden estar vacíos o nulos"
   ]
  },
  {
   "cell_type": "code",
   "execution_count": 10,
   "id": "759ad3f3-630b-446a-a0ed-28bff7edd012",
   "metadata": {},
   "outputs": [
    {
     "name": "stdout",
     "output_type": "stream",
     "text": [
      "Dimensiones del DataFrame:\n",
      "(200, 4)\n",
      "\n",
      "Tipos de datos:\n",
      "fecha               object\n",
      "producto            object\n",
      "cantidad           float64\n",
      "precio_unitario    float64\n",
      "dtype: object\n",
      "\n",
      "Valores nulos:\n",
      "fecha               0\n",
      "producto            0\n",
      "cantidad           21\n",
      "precio_unitario    22\n",
      "dtype: int64\n",
      "\n",
      "\n"
     ]
    }
   ],
   "source": [
    "# 1 Aqui revisamos su estructura general de 'df'\n",
    "revisar_estructura(df)"
   ]
  },
  {
   "cell_type": "code",
   "execution_count": 11,
   "id": "4ac0bd61-3dfa-453e-849e-5d563e3dcd91",
   "metadata": {},
   "outputs": [
    {
     "name": "stdout",
     "output_type": "stream",
     "text": [
      "Resumen estadístico de las variables numéricas:\n",
      "         cantidad  precio_unitario\n",
      "count  179.000000       178.000000\n",
      "mean    10.849162        10.477584\n",
      "std      5.738167         2.980203\n",
      "min      1.000000         5.000000\n",
      "25%      6.000000         8.125000\n",
      "50%     11.000000        10.185000\n",
      "75%     16.000000        13.485000\n",
      "max     20.000000        14.980000\n",
      "\n",
      "Resumen de las variables categóricas:\n",
      "             fecha    producto\n",
      "count          200         200\n",
      "unique          30           5\n",
      "top     2024-01-08  Producto E\n",
      "freq            11          46\n",
      "\n",
      "\n"
     ]
    }
   ],
   "source": [
    "# 2 Aqui un resumen estadistico general de 'df'\n",
    "resumen_estadistico(df)"
   ]
  },
  {
   "cell_type": "code",
   "execution_count": 12,
   "id": "7689aae5-d8f8-46cc-9c38-c2bef77bb79e",
   "metadata": {},
   "outputs": [
    {
     "data": {
      "image/png": "[encoded data removed]",
      "text/plain": [
       "<Figure size 1000x500 with 1 Axes>"
      ]
     },
     "metadata": {},
     "output_type": "display_data"
    },
    {
     "name": "stderr",
     "output_type": "stream",
     "text": [
      "/var/folders/6m/b7wm2zkj55lg25xsx3d3sx6h0000gn/T/ipykernel_67224/1279814428.py:80: FutureWarning: \n",
      "\n",
      "Passing `palette` without assigning `hue` is deprecated and will be removed in v0.14.0. Assign the `x` variable to `hue` and set `legend=False` for the same effect.\n",
      "\n",
      "  sns.barplot(x='producto', y='cantidad', data=ventas_por_producto, palette='viridis')\n"
     ]
    },
    {
     "data": {
      "image/png": "[encoded data removed]",
      "text/plain": [
       "<Figure size 1000x500 with 1 Axes>"
      ]
     },
     "metadata": {},
     "output_type": "display_data"
    },
    {
     "data": {
      "image/png": "[encoded data removed]",
      "text/plain": [
       "<Figure size 1000x500 with 1 Axes>"
      ]
     },
     "metadata": {},
     "output_type": "display_data"
    }
   ],
   "source": [
    "# 3 Aqui veremos 3 graficos de vision general para el entendimiento de la data\n",
    "visualizaciones(df)"
   ]
  },
  {
   "cell_type": "raw",
   "id": "1083874a-b83e-4d57-95f1-0d60fd92c42c",
   "metadata": {},
   "source": [
    "1. Distribución de la Cantidad Vendida (Histograma):\n",
    "\n",
    "\t•\tEl histograma muestra la frecuencia de la cantidad de productos vendidos en el rango de 1 a 20.\n",
    "\t•\tSe observa que la distribución es irregular, con algunos picos notables en las cantidades cercanas a 5, 10, 15 y 20. Esto sugiere que las ventas de productos se concentran alrededor de ciertos valores, lo que puede estar relacionado con estrategias de ventas, tamaños de lote o preferencias del cliente.\n",
    "\t•\tEl rango de valores va de 1 a 20, lo que indica que la cantidad de productos vendidos por transacción varía considerablemente.\n",
    "\n",
    "2. Cantidad Vendida por Producto (Gráfico de Barras):\n",
    "\n",
    "\t•\tEn el gráfico de barras podemos ver la cantidad total vendida de cada producto.\n",
    "\t•\tProducto E es el más vendido, seguido por Producto D, Producto A, y Producto C. El Producto B tiene la menor cantidad de ventas.\n",
    "\t•\tLas diferencias entre productos son visibles pero no extremadamente grandes. Todos los productos parecen tener una buena demanda, pero algunos se destacan más que otros.\n",
    "\n",
    "3. Distribución del Precio Unitario (Gráfico de Caja - Boxplot):\n",
    "\n",
    "\t•\tEl gráfico de caja muestra la distribución de los precios unitarios.\n",
    "\t•\tEl rango intercuartílico (IQR) de los precios se encuentra entre aproximadamente 8 y 13 unidades monetarias, con una mediana en torno a 10 unidades."
   ]
  },
  {
   "cell_type": "code",
   "execution_count": 13,
   "id": "837f3efa-086b-4412-91f4-48f23c529a56",
   "metadata": {},
   "outputs": [
    {
     "name": "stdout",
     "output_type": "stream",
     "text": [
      "Porcentaje de valores nulos por columna:\n",
      "cantidad           10.5\n",
      "precio_unitario    11.0\n",
      "dtype: float64\n",
      "\n",
      "\n"
     ]
    }
   ],
   "source": [
    "# 3 Aqui vanalizaremos los nulos que hay en el 'df'\n",
    "analizar_valores_nulos(df)"
   ]
  },
  {
   "cell_type": "raw",
   "id": "cb70f4a8-5d99-47a7-a744-51aa9a38b72b",
   "metadata": {},
   "source": [
    "Procedemos a eliminar los nulos"
   ]
  },
  {
   "cell_type": "code",
   "execution_count": 14,
   "id": "ebeb6b6f-794e-417d-80ea-177b486cc48d",
   "metadata": {},
   "outputs": [],
   "source": [
    "df1 = df.dropna()"
   ]
  },
  {
   "cell_type": "raw",
   "id": "742cf3a6-eda8-4bd8-a912-002d90ac0bb4",
   "metadata": {},
   "source": [
    "Podemos observar que cuando se elimino los nulos, la dimension del nuevo 'df' disminuyo en 43."
   ]
  },
  {
   "cell_type": "code",
   "execution_count": 15,
   "id": "b4a60721-cab9-4f63-ad92-08a6d30c0c3e",
   "metadata": {},
   "outputs": [
    {
     "data": {
      "text/plain": [
       "((200, 4), (162, 4))"
      ]
     },
     "execution_count": 15,
     "metadata": {},
     "output_type": "execute_result"
    }
   ],
   "source": [
    "df.shape, df1.shape"
   ]
  },
  {
   "cell_type": "markdown",
   "id": "eaccf175-09d4-4708-a773-efc61c551c62",
   "metadata": {},
   "source": [
    "## 3) Realizar los calculos necesarios para saber:"
   ]
  },
  {
   "cell_type": "markdown",
   "id": "f7e8d782-3f2a-4b9f-b98d-6823c9c26836",
   "metadata": {},
   "source": [
    "### 3.1)\tEl total de ventas por cada producto"
   ]
  },
  {
   "cell_type": "code",
   "execution_count": 16,
   "id": "0d09787a-55eb-4328-b7c5-8a56358924e4",
   "metadata": {
    "scrolled": true
   },
   "outputs": [
    {
     "name": "stderr",
     "output_type": "stream",
     "text": [
      "/var/folders/6m/b7wm2zkj55lg25xsx3d3sx6h0000gn/T/ipykernel_67224/3135469970.py:2: SettingWithCopyWarning: \n",
      "A value is trying to be set on a copy of a slice from a DataFrame.\n",
      "Try using .loc[row_indexer,col_indexer] = value instead\n",
      "\n",
      "See the caveats in the documentation: https://pandas.pydata.org/pandas-docs/stable/user_guide/indexing.html#returning-a-view-versus-a-copy\n",
      "  df1['total_venta'] = df1['cantidad'] * df1['precio_unitario']\n"
     ]
    }
   ],
   "source": [
    "# 1) El total de ventas por cada producto\n",
    "df1['total_venta'] = df1['cantidad'] * df1['precio_unitario']\n",
    "ventas_por_producto = df1.groupby('producto')['total_venta'].sum().reset_index()  # Reiniciar el índice\n",
    "ventas_por_producto = ventas_por_producto.sort_values(by='total_venta', ascending=False).reset_index(drop=True)  # Asegurarse de reiniciar el índice\n"
   ]
  },
  {
   "cell_type": "code",
   "execution_count": 17,
   "id": "7834e89f-aff5-49e8-9736-25793c63afeb",
   "metadata": {},
   "outputs": [
    {
     "name": "stdout",
     "output_type": "stream",
     "text": [
      "Total de ventas por producto:\n"
     ]
    },
    {
     "data": {
      "text/html": [
       "<div>\n",
       "<style scoped>\n",
       "    .dataframe tbody tr th:only-of-type {\n",
       "        vertical-align: middle;\n",
       "    }\n",
       "\n",
       "    .dataframe tbody tr th {\n",
       "        vertical-align: top;\n",
       "    }\n",
       "\n",
       "    .dataframe thead th {\n",
       "        text-align: right;\n",
       "    }\n",
       "</style>\n",
       "<table border=\"1\" class=\"dataframe\">\n",
       "  <thead>\n",
       "    <tr style=\"text-align: right;\">\n",
       "      <th></th>\n",
       "      <th>producto</th>\n",
       "      <th>total_venta</th>\n",
       "    </tr>\n",
       "  </thead>\n",
       "  <tbody>\n",
       "    <tr>\n",
       "      <th>0</th>\n",
       "      <td>Producto E</td>\n",
       "      <td>4411.41</td>\n",
       "    </tr>\n",
       "    <tr>\n",
       "      <th>1</th>\n",
       "      <td>Producto A</td>\n",
       "      <td>4116.85</td>\n",
       "    </tr>\n",
       "    <tr>\n",
       "      <th>2</th>\n",
       "      <td>Producto D</td>\n",
       "      <td>3853.59</td>\n",
       "    </tr>\n",
       "    <tr>\n",
       "      <th>3</th>\n",
       "      <td>Producto B</td>\n",
       "      <td>3308.13</td>\n",
       "    </tr>\n",
       "    <tr>\n",
       "      <th>4</th>\n",
       "      <td>Producto C</td>\n",
       "      <td>3102.71</td>\n",
       "    </tr>\n",
       "  </tbody>\n",
       "</table>\n",
       "</div>"
      ],
      "text/plain": [
       "     producto  total_venta\n",
       "0  Producto E      4411.41\n",
       "1  Producto A      4116.85\n",
       "2  Producto D      3853.59\n",
       "3  Producto B      3308.13\n",
       "4  Producto C      3102.71"
      ]
     },
     "execution_count": 17,
     "metadata": {},
     "output_type": "execute_result"
    }
   ],
   "source": [
    "print(\"Total de ventas por producto:\")\n",
    "ventas_por_producto"
   ]
  },
  {
   "cell_type": "code",
   "execution_count": 18,
   "id": "942525dc-6623-46cc-be2e-2367bee97c1a",
   "metadata": {},
   "outputs": [
    {
     "name": "stderr",
     "output_type": "stream",
     "text": [
      "/var/folders/6m/b7wm2zkj55lg25xsx3d3sx6h0000gn/T/ipykernel_67224/1279814428.py:111: FutureWarning: \n",
      "\n",
      "Passing `palette` without assigning `hue` is deprecated and will be removed in v0.14.0. Assign the `x` variable to `hue` and set `legend=False` for the same effect.\n",
      "\n",
      "  sns.barplot(x='producto', y='total_venta', data=ventas_por_producto, palette='Blues_d')\n"
     ]
    },
    {
     "data": {
      "image/png": "[encoded data removed]",
      "text/plain": [
       "<Figure size 1000x600 with 1 Axes>"
      ]
     },
     "metadata": {},
     "output_type": "display_data"
    }
   ],
   "source": [
    "graficar_ventas_por_producto(ventas_por_producto)\n"
   ]
  },
  {
   "cell_type": "markdown",
   "id": "b5500b34-97e5-4f68-ad08-4efee92cf7f1",
   "metadata": {},
   "source": [
    "### 3.2)\tEl producto más vendido según el valor de venta (precio unitario x cantidad)"
   ]
  },
  {
   "cell_type": "code",
   "execution_count": 19,
   "id": "c16c7fb8-6639-417d-a99c-c4fea122d982",
   "metadata": {},
   "outputs": [],
   "source": [
    "producto_mas_vendido = ventas_por_producto.iloc[0]"
   ]
  },
  {
   "cell_type": "code",
   "execution_count": 20,
   "id": "8428cc80-b490-4013-82ad-21f0c236b1f3",
   "metadata": {},
   "outputs": [
    {
     "name": "stdout",
     "output_type": "stream",
     "text": [
      "\n",
      "Producto más vendido:\n"
     ]
    },
    {
     "data": {
      "text/plain": [
       "producto       Producto E\n",
       "total_venta       4411.41\n",
       "Name: 0, dtype: object"
      ]
     },
     "execution_count": 20,
     "metadata": {},
     "output_type": "execute_result"
    }
   ],
   "source": [
    "print(\"\\nProducto más vendido:\")\n",
    "producto_mas_vendido"
   ]
  },
  {
   "cell_type": "code",
   "execution_count": 21,
   "id": "17e3a1b1-1367-4758-9f71-d53dc65b572e",
   "metadata": {},
   "outputs": [
    {
     "data": {
      "image/png": "[encoded data removed]",
      "text/plain": [
       "<Figure size 500x400 with 1 Axes>"
      ]
     },
     "metadata": {},
     "output_type": "display_data"
    }
   ],
   "source": [
    "graficar_producto_mas_vendido(producto_mas_vendido)"
   ]
  },
  {
   "cell_type": "markdown",
   "id": "f8b1db5c-b7fb-4cd7-b2c2-cd553fabdd1a",
   "metadata": {},
   "source": [
    "### 3.3)\tLos 5 días con mayor cantidad de ventas en funcion a la cantidad de productos vendidos"
   ]
  },
  {
   "cell_type": "code",
   "execution_count": 22,
   "id": "202e9b82-a089-4b3a-a4b1-d8dc74fd339c",
   "metadata": {},
   "outputs": [],
   "source": [
    "ventas_por_dia = df.groupby('fecha')['cantidad'].sum().reset_index()\n",
    "top_5_dias = ventas_por_dia.nlargest(5, 'cantidad')"
   ]
  },
  {
   "cell_type": "code",
   "execution_count": 23,
   "id": "091c48ce-6aea-4a9c-96f4-7c12f11946d5",
   "metadata": {},
   "outputs": [
    {
     "name": "stdout",
     "output_type": "stream",
     "text": [
      "\n",
      "Top 5 días con mayor cantidad de ventas:\n"
     ]
    },
    {
     "data": {
      "text/html": [
       "<div>\n",
       "<style scoped>\n",
       "    .dataframe tbody tr th:only-of-type {\n",
       "        vertical-align: middle;\n",
       "    }\n",
       "\n",
       "    .dataframe tbody tr th {\n",
       "        vertical-align: top;\n",
       "    }\n",
       "\n",
       "    .dataframe thead th {\n",
       "        text-align: right;\n",
       "    }\n",
       "</style>\n",
       "<table border=\"1\" class=\"dataframe\">\n",
       "  <thead>\n",
       "    <tr style=\"text-align: right;\">\n",
       "      <th></th>\n",
       "      <th>fecha</th>\n",
       "      <th>cantidad</th>\n",
       "    </tr>\n",
       "  </thead>\n",
       "  <tbody>\n",
       "    <tr>\n",
       "      <th>7</th>\n",
       "      <td>2024-01-08</td>\n",
       "      <td>122.0</td>\n",
       "    </tr>\n",
       "    <tr>\n",
       "      <th>18</th>\n",
       "      <td>2024-01-19</td>\n",
       "      <td>120.0</td>\n",
       "    </tr>\n",
       "    <tr>\n",
       "      <th>19</th>\n",
       "      <td>2024-01-20</td>\n",
       "      <td>106.0</td>\n",
       "    </tr>\n",
       "    <tr>\n",
       "      <th>27</th>\n",
       "      <td>2024-01-28</td>\n",
       "      <td>94.0</td>\n",
       "    </tr>\n",
       "    <tr>\n",
       "      <th>29</th>\n",
       "      <td>2024-01-30</td>\n",
       "      <td>90.0</td>\n",
       "    </tr>\n",
       "  </tbody>\n",
       "</table>\n",
       "</div>"
      ],
      "text/plain": [
       "         fecha  cantidad\n",
       "7   2024-01-08     122.0\n",
       "18  2024-01-19     120.0\n",
       "19  2024-01-20     106.0\n",
       "27  2024-01-28      94.0\n",
       "29  2024-01-30      90.0"
      ]
     },
     "execution_count": 23,
     "metadata": {},
     "output_type": "execute_result"
    }
   ],
   "source": [
    "print(\"\\nTop 5 días con mayor cantidad de ventas:\")\n",
    "top_5_dias"
   ]
  },
  {
   "cell_type": "code",
   "execution_count": 24,
   "id": "479eed0d-a5db-4a01-8204-da58edaf49a7",
   "metadata": {},
   "outputs": [
    {
     "data": {
      "image/png": "[encoded data removed]",
      "text/plain": [
       "<Figure size 1000x600 with 1 Axes>"
      ]
     },
     "metadata": {},
     "output_type": "display_data"
    }
   ],
   "source": [
    "graficar_top_5_dias(top_5_dias)"
   ]
  },
  {
   "cell_type": "markdown",
   "id": "15cdfd3a-6e66-4b91-833b-a48fffbcf48b",
   "metadata": {},
   "source": [
    "###  4)\tRealizar los siguientes gráficos:"
   ]
  },
  {
   "cell_type": "markdown",
   "id": "c1ad91f0-6012-43a6-a222-788d93cf3f2f",
   "metadata": {},
   "source": [
    "#### 1)\tGráfico de Barras donde se vea las ventas por producto"
   ]
  },
  {
   "cell_type": "code",
   "execution_count": 25,
   "id": "39c4a34f-f290-404b-96d4-fbab98e9d496",
   "metadata": {},
   "outputs": [
    {
     "name": "stderr",
     "output_type": "stream",
     "text": [
      "/var/folders/6m/b7wm2zkj55lg25xsx3d3sx6h0000gn/T/ipykernel_67224/3056241199.py:6: FutureWarning: \n",
      "\n",
      "Passing `palette` without assigning `hue` is deprecated and will be removed in v0.14.0. Assign the `x` variable to `hue` and set `legend=False` for the same effect.\n",
      "\n",
      "  sns.barplot(x='producto', y='total_venta', data=ventas_por_producto, palette='Blues_d')\n"
     ]
    },
    {
     "data": {
      "image/png": "[encoded data removed]",
      "text/plain": [
       "<Figure size 1000x600 with 1 Axes>"
      ]
     },
     "metadata": {},
     "output_type": "display_data"
    }
   ],
   "source": [
    "# Configuración general de estilo\n",
    "sns.set(style=\"whitegrid\")\n",
    "\n",
    "# Crear el gráfico de barras\n",
    "plt.figure(figsize=(10, 6))  # Ajustar el tamaño del gráfico\n",
    "sns.barplot(x='producto', y='total_venta', data=ventas_por_producto, palette='Blues_d')\n",
    "\n",
    "# Títulos y etiquetas\n",
    "plt.title('Total de Ventas por Producto', fontsize=16)\n",
    "plt.xlabel('Producto', fontsize=12)\n",
    "plt.ylabel('Total de Ventas', fontsize=12)\n",
    "plt.xticks(rotation=45)  # Rotar las etiquetas del eje X para que se lean mejor\n",
    "plt.tight_layout()  # Ajusta el diseño del gráfico para que no se corten las etiquetas\n",
    "\n",
    "# Mostrar el gráfico\n",
    "plt.show()"
   ]
  },
  {
   "cell_type": "raw",
   "id": "33ae4fc0-45be-43ee-8f37-8c2dff41b27c",
   "metadata": {},
   "source": [
    "* El gráfico muestra un gráfico de barras que compara el total de ventas para cinco productos: Producto A, Producto B, Producto C, Producto D y Producto E.\n",
    "\n",
    "* El eje X representa los productos y el eje Y representa el total de ventas en unidades monetarias.\n",
    "\n",
    "* Este gráfico proporciona una visión clara de cuáles productos están impulsando la mayor parte de los ingresos. Producto E es el más exitoso, pero hay margen de mejora en los productos menos vendidos como Producto C."
   ]
  },
  {
   "cell_type": "code",
   "execution_count": null,
   "id": "5de18ac6-8e3c-4a3c-9b8a-16ad3caffb0a",
   "metadata": {},
   "outputs": [],
   "source": []
  }
 ],
 "metadata": {
  "kernelspec": {
   "display_name": "Python 3 (ipykernel)",
   "language": "python",
   "name": "python3"
  },
  "language_info": {
   "codemirror_mode": {
    "name": "ipython",
    "version": 3
   },
   "file_extension": ".py",
   "mimetype": "text/x-python",
   "name": "python",
   "nbconvert_exporter": "python",
   "pygments_lexer": "ipython3",
   "version": "3.8.19"
  }
 },
 "nbformat": 4,
 "nbformat_minor": 5
}
